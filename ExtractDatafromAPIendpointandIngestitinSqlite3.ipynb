{
 "cells": [
  {
   "cell_type": "code",
   "execution_count": 1,
   "id": "c689909d",
   "metadata": {},
   "outputs": [],
   "source": [
    "import sqlite3\n",
    "from sodapy import Socrata\n",
    "import math\n",
    "# https://data.montgomerycountymd.gov/resource/s5gi-izpu.json"
   ]
  },
  {
   "cell_type": "code",
   "execution_count": 3,
   "id": "eb1422a8",
   "metadata": {},
   "outputs": [
    {
     "name": "stderr",
     "output_type": "stream",
     "text": [
      "WARNING:root:Requests made without an app_token will be subject to strict throttling limits.\n"
     ]
    }
   ],
   "source": [
    "client = Socrata(\"data.montgomerycountymd.gov\", None)\n",
    "results = client.get(\"s5gi-izpu\", limit=25000)"
   ]
  },
  {
   "cell_type": "code",
   "execution_count": 4,
   "id": "a2cbf073",
   "metadata": {},
   "outputs": [],
   "source": [
    "cats = []\n",
    "for pet in results:\n",
    "    if pet[\"animaltype\"] == \"CAT\":\n",
    "        cats.append(pet)"
   ]
  },
  {
   "cell_type": "code",
   "execution_count": 5,
   "id": "688ef17e",
   "metadata": {},
   "outputs": [],
   "source": [
    "cat_database = '/home/maf/anaconda3/lib/python3.9/sqlite3/cat.db'\n",
    "def create_connection(db_file):\n",
    "    # create SQLite database, from https://www.sqlitetutorial.net/sqlite-python/creating-database/\n",
    "    \"\"\" Create a database connection to a SQLite database \"\"\"\n",
    "    conn = None\n",
    "    try:\n",
    "        conn = sqlite3.connect(db_file)\n",
    "    except Exception as e:\n",
    "        print(e)\n",
    "    finally:\n",
    "        if conn:\n",
    "            conn.close()\n",
    "\n",
    "  # lets pretend sqilte can't handle JSON\n",
    "  # create db\n",
    "create_connection(cat_database)\n",
    "  # connect\n",
    "dbconn = sqlite3.connect(cat_database)\n",
    "cur = dbconn.cursor()\n"
   ]
  },
  {
   "cell_type": "code",
   "execution_count": 6,
   "id": "fcd02294",
   "metadata": {},
   "outputs": [],
   "source": [
    "cat_database = '/home/maf/anaconda3/lib/python3.9/sqlite3/cat.db'\n",
    "FIELDS = [\"id\", \"name\", \"color\", \"intake_date\", \"sex\",\n",
    "          \"days_in_shelter\", \"size\", \"intake_subtype\", \"breed\", \"intake_condition\",\n",
    "          \"date_of_birth\", \"intake_jurisdiction\", \"intake_type\", \"outcome_date\", \"outcome_subtype\",\n",
    "          \"outcome_condition\", \"outcome_jurisdiction\", \"outcome_type\"]\n",
    "CAT_TABLE = \"\"\"\n",
    "CREATE TABLE IF NOT EXISTS cats_all \n",
    "(\n",
    "    id TEXT,\n",
    "    name TEXT,\n",
    "    color TEXT,\n",
    "    intake_date DATE,\n",
    "    sex TEXT,\n",
    "    days_in_shelter INT,\n",
    "    size TEXT,\n",
    "    intake_subtype TEXT,\n",
    "    breed TEXT,\n",
    "    intake_condition TEXT,\n",
    "    date_of_birth DATE,\n",
    "    intake_jurisdiction TEXT,\n",
    "    intake_type TEXT,\n",
    "    outcome_date DATE,\n",
    "    outcome_subtype TEXT,\n",
    "    outcome_condition TEXT,\n",
    "    outcome_jurisdiction TEXT,\n",
    "    outcome_type TEXT,\n",
    "    updated_datetime DATETIME\n",
    ");\n",
    "\"\"\"\n",
    "\n",
    "INSERT_STATEMENT = \"INSERT INTO cats_all VALUES\""
   ]
  },
  {
   "cell_type": "code",
   "execution_count": 7,
   "id": "02972111",
   "metadata": {},
   "outputs": [
    {
     "data": {
      "text/plain": [
       "<sqlite3.Cursor at 0x7efcfc048ab0>"
      ]
     },
     "execution_count": 7,
     "metadata": {},
     "output_type": "execute_result"
    }
   ],
   "source": [
    "### create table\n",
    "cur.execute(CAT_TABLE)\n",
    "INSERT_COUNTS = 500\n",
    "value_list = []\n",
    "\n",
    "## loop over every 500\n",
    "total_cats = len(cats)\n",
    "times_around = int(math.ceil(total_cats / INSERT_COUNTS)) + 1\n",
    "\n",
    "for loop_around in range(0, times_around):\n",
    "    for cat in cats[loop_around*INSERT_COUNTS:(loop_around*INSERT_COUNTS)+INSERT_COUNTS]:\n",
    "        this_list = []\n",
    "        # parse the JSON\n",
    "        for field in FIELDS:\n",
    "            ## avoid TypeError: sequence item 1: expected string or Unicode, NoneType found\n",
    "            if cat.get(field) is None:\n",
    "                cat_field = \"NULL\"\n",
    "            else:\n",
    "                cat_field = cat.get(field).replace(\"'\", \"\")\n",
    "            this_list.append(cat_field)\n",
    "        value_list.append(\"', '\".join(this_list) + \"', strftime('%Y-%m-%d %H-%M-%S','now')),\")\n",
    "    insert = \"(\\'\" + \"('\".join(value_list)\n",
    "\n",
    "## ensure it's empty\n",
    "cur.execute(\"DELETE FROM cats_all\")\n",
    "## insert\n",
    "cur.execute(INSERT_STATEMENT +  insert[:-1]  + ';')\n",
    "# cur.close()"
   ]
  },
  {
   "cell_type": "code",
   "execution_count": 9,
   "id": "106533cc",
   "metadata": {},
   "outputs": [
    {
     "name": "stdout",
     "output_type": "stream",
     "text": [
      "who is our first cat?\n",
      "('NULL', 'NULL', 'ORANGE TAB', 'NULL', 'N', 'NULL', 'NULL', 'NULL', 'DOMESTIC SH', 'NULL', 'NULL', 'NULL', 'NULL', 'NULL', 'NULL', 'NULL', 'NULL', 'NULL', '2023-06-30 21-58-41')\n"
     ]
    }
   ],
   "source": [
    "cur.execute(\"\"\"SELECT * FROM cats_all\"\"\")\n",
    "rows = cur.fetchall()\n",
    "print(\"who is our first cat?\")\n",
    "print(rows[5])"
   ]
  },
  {
   "cell_type": "code",
   "execution_count": 10,
   "id": "3c2b992a",
   "metadata": {},
   "outputs": [],
   "source": [
    "cats = cur.execute(\"\"\" \n",
    "        SELECT size,\n",
    "            CASE WHEN upper(color) = 'BLACK/BLK TABBY' THEN 'BLACK'\n",
    "            WHEN upper(color) like 'BLK%' THEN 'BLACK OTHER'\n",
    "            WHEN upper(color) like 'BLUE%' THEN 'BLUE'\n",
    "            WHEN upper(color) like 'BRN %' THEN 'BROWN'\n",
    "            WHEN upper(color) like 'BROWN' THEN 'BROWN'\n",
    "            WHEN upper(color) like 'BUFF%' THEN 'ORANGE'\n",
    "            WHEN upper(color) like 'ORG %' THEN 'ORANGE'\n",
    "            WHEN upper(color) like 'ORANGE%' THEN 'ORANGE'\n",
    "            WHEN upper(color) like 'WHITE' THEN 'WHITE'\n",
    "            WHEN upper(color) like 'BLACK' THEN 'BLACK'\n",
    "            WHEN upper(color) like 'TORTIE%' THEN 'TORTIE'\n",
    "            WHEN upper(color) like 'WHITE/%' THEN 'WHITE MIXED'\n",
    "            WHEN upper(color) like 'GRAY%' THEN 'GRAY'\n",
    "            WHEN upper(color) like 'CALICO%' THEN 'CALICO'\n",
    "            WHEN upper(color) like 'CHOC%' THEN 'CHOCOLATE'\n",
    "            ELSE 'MIXED' end as color_group,\n",
    "                count(*),\n",
    "                avg(case when days_at_intake < 48 \n",
    "                    then days_in_shelter - (48- days_at_intake)\n",
    "                    else days_in_shelter \n",
    "                end) as days_in_shelter_normalized\n",
    "            from (\n",
    "            SELECT *, \n",
    "                julianday(intake_date) - julianday(date_of_birth) as days_at_intake,\n",
    "                julianday(outcome_date) - julianday(intake_date) as days_in_shelter,\n",
    "                julianday(outcome_date) - julianday(date_of_birth) as days_at_adoption\n",
    "            FROM cats_all \n",
    "            where outcome_type = 'ADOPTION'\n",
    "            and intake_condition = 'HEALTHY'\n",
    "            )\n",
    "            group by 1,2\n",
    "                    \"\"\")\n"
   ]
  },
  {
   "cell_type": "code",
   "execution_count": 16,
   "id": "528eb3f9",
   "metadata": {},
   "outputs": [
    {
     "name": "stdout",
     "output_type": "stream",
     "text": [
      "{'animalid': 'A503628', 'intype': 'OWNER SUR', 'indate': '2023-04-15T00:00:00.000', 'petname': 'MARS', 'animaltype': 'CAT', 'petage': '1 YEAR 5 MONTHS', 'petsize': 'SMALL', 'color': 'BROWN', 'breed': 'DOMESTIC SH', 'sex': 'S', 'url': {'url': 'http://www.petharbor.com/get_image.asp?res=DETAIL&id=A503628&location=MONT'}}\n"
     ]
    }
   ],
   "source": [
    "for cat in cats.fetchall():\n",
    "    print(cat)\n",
    "print(cat)    "
   ]
  },
  {
   "cell_type": "code",
   "execution_count": null,
   "id": "f55ddb20",
   "metadata": {},
   "outputs": [],
   "source": []
  }
 ],
 "metadata": {
  "kernelspec": {
   "display_name": "Python 3 (ipykernel)",
   "language": "python",
   "name": "python3"
  },
  "language_info": {
   "codemirror_mode": {
    "name": "ipython",
    "version": 3
   },
   "file_extension": ".py",
   "mimetype": "text/x-python",
   "name": "python",
   "nbconvert_exporter": "python",
   "pygments_lexer": "ipython3",
   "version": "3.9.13"
  }
 },
 "nbformat": 4,
 "nbformat_minor": 5
}
